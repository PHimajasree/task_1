{
  "nbformat": 4,
  "nbformat_minor": 0,
  "metadata": {
    "colab": {
      "provenance": [],
      "authorship_tag": "ABX9TyNDQF9ZwkqTbXIfFXFga3Kb",
      "include_colab_link": true
    },
    "kernelspec": {
      "name": "python3",
      "display_name": "Python 3"
    },
    "language_info": {
      "name": "python"
    }
  },
  "cells": [
    {
      "cell_type": "markdown",
      "metadata": {
        "id": "view-in-github",
        "colab_type": "text"
      },
      "source": [
        "<a href=\"https://colab.research.google.com/github/PHimajasree/task_1/blob/main/hangman_game.ipynb\" target=\"_parent\"><img src=\"https://colab.research.google.com/assets/colab-badge.svg\" alt=\"Open In Colab\"/></a>"
      ]
    },
    {
      "cell_type": "code",
      "execution_count": null,
      "metadata": {
        "colab": {
          "base_uri": "https://localhost:8080/"
        },
        "id": "JAsTcKqmqAF4",
        "outputId": "eff38757-e587-4fcf-964b-c9c2d571a390"
      },
      "outputs": [
        {
          "output_type": "stream",
          "name": "stdout",
          "text": [
            "Welcome to Hangman!\n",
            "Try to guess the word, one letter at a time.\n",
            "You are allowed a maximum of 6 incorrect guesses.\n",
            "\n",
            "_ _ _ _ _ _ _\n",
            "Guessed letters: \n",
            "Incorrect guesses remaining: 6\n",
            "Enter a letter: p\n",
            "Sorry, p is not in the word.\n",
            "\n",
            "_ _ _ _ _ _ _\n",
            "Guessed letters: p\n",
            "Incorrect guesses remaining: 5\n",
            "Enter a letter: c\n",
            "Sorry, c is not in the word.\n",
            "\n",
            "_ _ _ _ _ _ _\n",
            "Guessed letters: c, p\n",
            "Incorrect guesses remaining: 4\n",
            "Enter a letter: d\n",
            "Sorry, d is not in the word.\n",
            "\n",
            "_ _ _ _ _ _ _\n",
            "Guessed letters: c, d, p\n",
            "Incorrect guesses remaining: 3\n",
            "Enter a letter: h\n",
            "Good job! h is in the word.\n",
            "\n",
            "h _ _ _ _ _ _\n",
            "Guessed letters: c, d, h, p\n",
            "Incorrect guesses remaining: 3\n",
            "Enter a letter: a\n",
            "Good job! a is in the word.\n",
            "\n",
            "h a _ _ _ a _\n",
            "Guessed letters: a, c, d, h, p\n",
            "Incorrect guesses remaining: 3\n",
            "Enter a letter: n\n",
            "Good job! n is in the word.\n",
            "\n",
            "h a n _ _ a n\n",
            "Guessed letters: a, c, d, h, n, p\n",
            "Incorrect guesses remaining: 3\n",
            "Enter a letter: g\n",
            "Good job! g is in the word.\n",
            "\n",
            "h a n g _ a n\n",
            "Guessed letters: a, c, d, g, h, n, p\n",
            "Incorrect guesses remaining: 3\n",
            "Enter a letter: m\n",
            "Good job! m is in the word.\n",
            "\n",
            "Congratulations! You've guessed the word: hangman\n"
          ]
        }
      ],
      "source": [
        "import random\n",
        "\n",
        "def hangman():\n",
        "    # List of words to choose from\n",
        "    word_list = ['python', 'programming', 'hangman', 'developer', 'computer']\n",
        "    word = random.choice(word_list)  # Randomly select a word\n",
        "    guessed_word = ['_'] * len(word)  # Placeholder for guessed word\n",
        "    guessed_letters = set()  # Store guessed letters\n",
        "    incorrect_guesses = 0\n",
        "    max_incorrect_guesses = 6  # Set a limit on incorrect guesses\n",
        "\n",
        "    print(\"Welcome to Hangman!\")\n",
        "    print(\"Try to guess the word, one letter at a time.\")\n",
        "    print(f\"You are allowed a maximum of {max_incorrect_guesses} incorrect guesses.\\n\")\n",
        "\n",
        "    while incorrect_guesses < max_incorrect_guesses and '_' in guessed_word:\n",
        "        print(\" \".join(guessed_word))\n",
        "        print(f\"Guessed letters: {', '.join(sorted(guessed_letters))}\")\n",
        "        print(f\"Incorrect guesses remaining: {max_incorrect_guesses - incorrect_guesses}\")\n",
        "\n",
        "        guess = input(\"Enter a letter: \").lower()\n",
        "        if len(guess) != 1 or not guess.isalpha():\n",
        "            print(\"Invalid input. Please enter a single alphabetical letter.\\n\")\n",
        "            continue\n",
        "\n",
        "        if guess in guessed_letters:\n",
        "            print(\"You already guessed that letter. Try again.\\n\")\n",
        "            continue\n",
        "\n",
        "        guessed_letters.add(guess)\n",
        "\n",
        "        if guess in word:\n",
        "            print(f\"Good job! {guess} is in the word.\\n\")\n",
        "            for i, letter in enumerate(word):\n",
        "                if letter == guess:\n",
        "                    guessed_word[i] = guess\n",
        "        else:\n",
        "            print(f\"Sorry, {guess} is not in the word.\\n\")\n",
        "            incorrect_guesses += 1\n",
        "\n",
        "    if '_' not in guessed_word:\n",
        "        print(f\"Congratulations! You've guessed the word: {''.join(guessed_word)}\")\n",
        "    else:\n",
        "        print(f\"Game over! The word was: {word}\")\n",
        "\n",
        "# Run the game\n",
        "hangman()"
      ]
    }
  ]
}